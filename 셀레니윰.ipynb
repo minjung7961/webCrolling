{
 "cells": [
  {
   "cell_type": "code",
   "execution_count": 5,
   "id": "a6314d8e",
   "metadata": {},
   "outputs": [
    {
     "name": "stdout",
     "output_type": "stream",
     "text": [
      "Requirement already satisfied: selenium in c:\\apps\\webcrolling\\lib\\site-packages (3.141.0)\n",
      "Requirement already satisfied: urllib3 in c:\\apps\\webcrolling\\lib\\site-packages (from selenium) (1.26.4)\n"
     ]
    },
    {
     "name": "stderr",
     "output_type": "stream",
     "text": [
      "WARNING: You are using pip version 21.0.1; however, version 21.1.1 is available.\n",
      "You should consider upgrading via the 'C:\\apps\\webCrolling\\Scripts\\python.exe -m pip install --upgrade pip' command.\n"
     ]
    }
   ],
   "source": [
    "!pip install selenium"
   ]
  },
  {
   "cell_type": "code",
   "execution_count": 9,
   "id": "750be16f",
   "metadata": {},
   "outputs": [
    {
     "data": {
      "text/plain": [
       "[['항목 선택표',\n",
       "  '거래량 매수호가 거래대금(백만) 시가총액(억) 영업이익(억) PER(배)',\n",
       "  '시가 매도호가 전일거래량 자산총계(억) 영업이익증가율 ROE(%)',\n",
       "  '고가 매수총잔량 외국인비율 부채총계(억) 당기순이익(억) ROA(%)',\n",
       "  '저가 매도총잔량 상장주식수(천주) 매출액(억) 주당순이익(원) PBR(배)',\n",
       "  '      매출액증가율 보통주배당금(원) 유보율(%)'],\n",
       " ['순위 종목명 검색비율 현재가 전일비 등락률 거래량 시가 고가 저가 PER ROE',\n",
       "  '1 HMM 3.02% 39,900 4,250 +11.92% 16,352,653 36,250 39,900 36,100 103.91 8.93',\n",
       "  '2 삼성전자 2.14% 82,300 300 -0.36% 16,843,554 81,700 82,300 81,700 21.43 9.99',\n",
       "  '3 삼성중공업 1.35% 6,000 1,160 -16.20% 83,410,699 5,660 6,420 5,620 -2.55 -33.06',\n",
       "  '4 셀트리온 1.02% 252,500 7,500 -2.88% 1,136,715 260,000 261,500 251,000 67.93 16.68',\n",
       "  '5 카카오 0.90% 115,000 500 -0.43% 3,215,572 115,000 117,500 113,500 323.94 2.70',\n",
       "  '6 유바이오로직스 0.83% 37,650 6,800 +22.04% 5,996,808 30,700 38,200 30,350 -18.22 -91.23',\n",
       "  '7 대한항공 0.72% 27,600 1,250 +4.74% 5,925,249 26,350 27,600 26,300 -23.29 -7.22',\n",
       "  '8 KB금융 0.66% 57,500 4,200 +7.88% 3,161,978 54,400 57,500 54,300 6.92 8.53',\n",
       "  '9 삼성전자우 0.63% 74,500 100 +0.13% 1,642,888 73,900 74,500 73,700 19.40 N/A',\n",
       "  '10 신풍제약 0.57% 63,000 2,800 +4.65% 2,312,103 60,200 63,800 59,500 692.31 1.72',\n",
       "  '11 LG전자 0.54% 151,500 3,000 -1.94% 1,809,711 154,000 154,500 149,500 13.92 13.23',\n",
       "  '12 SK하이닉스 0.52% 129,000 3,000 -2.27% 4,160,646 130,000 130,500 128,000 19.75 9.53',\n",
       "  '13 POSCO 0.49% 395,500 19,000 +5.05% 715,318 380,500 396,000 380,500 21.52 3.61',\n",
       "  '14 박셀바이오 0.43% 95,500 8,700 +10.02% 1,789,944 85,600 98,000 85,500 -325.94 -18.22',\n",
       "  '15 팬오션 0.42% 7,700 540 +7.54% 17,788,410 7,280 7,760 7,240 44.51 3.25',\n",
       "  '16 SK이노베이션 0.41% 281,500 8,000 +2.93% 1,177,074 271,500 284,000 271,000 -12.14 -13.58',\n",
       "  '17 LG화학 0.40% 938,000 18,000 +1.96% 328,167 915,000 939,000 911,000 143.23 2.93',\n",
       "  '18 금호석유 0.40% 296,000 26,000 +9.63% 2,076,282 272,500 298,500 269,500 17.01 20.18',\n",
       "  '19 현대차 0.39% 223,500 0 0.00% 641,566 223,000 225,000 221,000 43.46 2.04',\n",
       "  '20 씨젠 0.38% 81,900 1,500 -1.80% 618,148 83,400 83,500 80,500 8.52 125.91',\n",
       "  '21 기아 0.38% 80,200 700 -0.87% 1,966,313 81,200 81,700 80,000 21.85 5.05',\n",
       "  '22 아이오케이 0.37% 2,600 660 -20.25% 16,595,625 3,185 3,345 2,600 -41.27 -4.04',\n",
       "  '23 NAVER 0.36% 361,500 3,000 -0.82% 607,733 360,500 364,500 359,500 59.29 15.22',\n",
       "  '24 엑세스바이오 0.34% 33,100 600 +1.85% 889,449 31,900 33,550 31,500 23.64 89.16',\n",
       "  '25 SK바이오사이언스 0.33% 160,000 1,500 +0.95% 730,692 158,500 162,000 156,000 297.95 13.25',\n",
       "  '26 휴마시스 0.33% 18,000 1,150 -6.01% 3,376,547 19,150 19,300 17,850 28.04 N/A',\n",
       "  '27 셀트리온헬스케어 0.33% 108,100 2,100 -1.91% 1,081,886 110,500 111,300 106,500 69.47 13.36',\n",
       "  '28 현대미포조선 0.33% 91,500 8,400 +10.11% 936,046 81,900 91,500 80,600 -187.50 -0.84',\n",
       "  '29 한국조선해양 0.33% 153,000 3,000 +2.00% 582,936 147,500 154,500 146,000 -12.99 -7.42',\n",
       "  '30 동일제강 0.31% 4,910 1,130 +29.89% 19,891,808 4,210 4,910 4,200 245.50 0.23']]"
      ]
     },
     "execution_count": 9,
     "metadata": {},
     "output_type": "execute_result"
    }
   ],
   "source": [
    "import time\n",
    "from selenium import webdriver\n",
    "from selenium.webdriver.chrome.options import Options\n",
    "from selenium.webdriver.support.wait import WebDriverWait\n",
    "options = Options()\n",
    "options.headless = True\n",
    "browser = webdriver.Chrome(executable_path=\"C:\\\\apps\\\\webCrolling\\\\chromedriver.exe\", options=options)\n",
    "browser.get(\"https://finance.naver.com/sise/lastsearch2.nhn\")\n",
    "time.sleep(3)\n",
    "tag_names = browser.find_elements_by_tag_name(\"table\")\n",
    "jusic = []\n",
    "for tag in tag_names:\n",
    "    jusic.append(tag.text.split(\"\\n\"))\n",
    "jusic"
   ]
  },
  {
   "cell_type": "code",
   "execution_count": 13,
   "id": "85c9eb26",
   "metadata": {
    "scrolled": true
   },
   "outputs": [
    {
     "data": {
      "text/plain": [
       "31"
      ]
     },
     "execution_count": 13,
     "metadata": {},
     "output_type": "execute_result"
    }
   ],
   "source": [
    "len(jusic[1])"
   ]
  },
  {
   "cell_type": "code",
   "execution_count": 16,
   "id": "e925be72",
   "metadata": {},
   "outputs": [
    {
     "data": {
      "text/plain": [
       "'1 HMM 3.02% 39,900 4,250 +11.92% 16,352,653 36,250 39,900 36,100 103.91 8.93'"
      ]
     },
     "execution_count": 16,
     "metadata": {},
     "output_type": "execute_result"
    }
   ],
   "source": [
    "jusic[1][1]"
   ]
  },
  {
   "cell_type": "code",
   "execution_count": 20,
   "id": "5328a6da",
   "metadata": {},
   "outputs": [
    {
     "data": {
      "text/plain": [
       "str"
      ]
     },
     "execution_count": 20,
     "metadata": {},
     "output_type": "execute_result"
    }
   ],
   "source": [
    "type(jusic[1][1])"
   ]
  },
  {
   "cell_type": "code",
   "execution_count": 21,
   "id": "4dd2eb4a",
   "metadata": {},
   "outputs": [
    {
     "data": {
      "text/plain": [
       "['1',\n",
       " 'HMM',\n",
       " '3.02%',\n",
       " '39,900',\n",
       " '4,250',\n",
       " '+11.92%',\n",
       " '16,352,653',\n",
       " '36,250',\n",
       " '39,900',\n",
       " '36,100',\n",
       " '103.91',\n",
       " '8.93']"
      ]
     },
     "execution_count": 21,
     "metadata": {},
     "output_type": "execute_result"
    }
   ],
   "source": [
    "jusic[1][1].split()"
   ]
  },
  {
   "cell_type": "code",
   "execution_count": 12,
   "id": "1398d8d3",
   "metadata": {},
   "outputs": [
    {
     "data": {
      "text/plain": [
       "44"
      ]
     },
     "execution_count": 12,
     "metadata": {},
     "output_type": "execute_result"
    }
   ],
   "source": [
    "len(jusic[1][0])"
   ]
  },
  {
   "cell_type": "code",
   "execution_count": null,
   "id": "09b6f328",
   "metadata": {},
   "outputs": [],
   "source": []
  }
 ],
 "metadata": {
  "kernelspec": {
   "display_name": "Python 3",
   "language": "python",
   "name": "python3"
  },
  "language_info": {
   "codemirror_mode": {
    "name": "ipython",
    "version": 3
   },
   "file_extension": ".py",
   "mimetype": "text/x-python",
   "name": "python",
   "nbconvert_exporter": "python",
   "pygments_lexer": "ipython3",
   "version": "3.8.9"
  }
 },
 "nbformat": 4,
 "nbformat_minor": 5
}
