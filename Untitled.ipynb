{
 "cells": [
  {
   "cell_type": "code",
   "execution_count": 48,
   "id": "ad1788a7",
   "metadata": {},
   "outputs": [
    {
     "name": "stdout",
     "output_type": "stream",
     "text": [
      "1. 개요2. 물약 외의 아이템2.1. 양조기2.2. 가마솥2.3. 유리병2.4. 재료2.4.1. 강화 및 변환2.4.2. 물약 재료3. 물약3.1. 효과가 없는 물약3.2. 이로운 효과의 물약3.3. 해로운 효과의 물약3.4. 그 외4. 기타\n"
     ]
    }
   ],
   "source": [
    "import requests\n",
    "from bs4 import BeautifulSoup\n",
    "res = requests.get('https://namu.wiki/w/%EB%A7%88%EC%9D%B8%ED%81%AC%EB%9E%98%ED%94%84%ED%8A%B8/%EC%95%84%EC%9D%B4%ED%85%9C/%EC%96%91%EC%A1%B0')\n",
    "soup = BeautifulSoup(res.content, 'html.parser')\n",
    "section = soup.find('div','wiki-macro-toc')\n",
    "# s = soup.select('#toc.wiki-macro-toc::before')\n",
    "# pseudo-element : 가상 요소(의사 요소) -> DOM, HTML코드로는 구현이 안된 꾸미기용\n",
    "# 속성 호출 시도시 bs4는 오류를 출력한다\n",
    "# NotImplementedError: Pseudo-element found at position 19\n",
    "\n",
    "# print(s)\n",
    "\n",
    "titles = section.find('div','toc-item')\n",
    "# print(titles)\n",
    "for index, title in enumerate(section):\n",
    "    # print(str(index + 1) + '.', title.get_text().split('-')[1].split('[')[0].strip())\n",
    "    print(title.get_text())\n",
    "    #여기서 추출한 문자열로 부터 split을 하던 find를 하던 해서 목차를 추출해야한다.\n",
    "\n",
    "\n"
   ]
  },
  {
   "cell_type": "code",
   "execution_count": null,
   "id": "2c218f84",
   "metadata": {},
   "outputs": [],
   "source": []
  }
 ],
 "metadata": {
  "kernelspec": {
   "display_name": "Python 3",
   "language": "python",
   "name": "python3"
  },
  "language_info": {
   "codemirror_mode": {
    "name": "ipython",
    "version": 3
   },
   "file_extension": ".py",
   "mimetype": "text/x-python",
   "name": "python",
   "nbconvert_exporter": "python",
   "pygments_lexer": "ipython3",
   "version": "3.8.9"
  }
 },
 "nbformat": 4,
 "nbformat_minor": 5
}
