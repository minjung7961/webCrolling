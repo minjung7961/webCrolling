{
 "cells": [
  {
   "cell_type": "code",
   "execution_count": 11,
   "id": "10ba0baa",
   "metadata": {},
   "outputs": [
    {
     "name": "stdout",
     "output_type": "stream",
     "text": [
      "레슨(강의/노트/퀴즈/과제) < 챕터 < 토픽 < 코스\n"
     ]
    }
   ],
   "source": [
    "import requests\n",
    "from bs4 import BeautifulSoup\n",
    "res = requests.get('https://www.codeit.kr/courses/data-science')\n",
    "soup = BeautifulSoup(res.content, 'html.parser')# 비정형 데이터\n",
    "mydata = soup.find('strong')\n",
    "print(mydata.get_text())"
   ]
  },
  {
   "cell_type": "code",
   "execution_count": 13,
   "id": "6c1ad9a4",
   "metadata": {},
   "outputs": [
    {
     "name": "stdout",
     "output_type": "stream",
     "text": [
      "웹페이지에서 필요한 데이터를 추출하는 것\n"
     ]
    }
   ],
   "source": [
    "from bs4 import BeautifulSoup\n",
    "html =      \"<html> \\\n",
    "                <body> \\\n",
    "                        <h1 id='title'>[1]크롤링이란?</h1> \\\n",
    "                        <p class='cssstyle'>웹페이지에서 필요한 데이터를 추출하는 것</p> \\\n",
    "                        <p id='body' align='center'>파이썬을 중심으로 다양한 웹크롤링 기술 발달</p> \\\n",
    "                </body> \\\n",
    "            </html>\"\n",
    "soup = BeautifulSoup(html,\"html.parser\")\n",
    "# 태그로 검색 방법\n",
    "data = soup.find('p')\n",
    "print(data.string)"
   ]
  },
  {
   "cell_type": "code",
   "execution_count": 22,
   "id": "8fd54060",
   "metadata": {},
   "outputs": [
    {
     "data": {
      "text/plain": [
       "'웹페이지에서 필요한 데이터를 추출하는 것'"
      ]
     },
     "execution_count": 22,
     "metadata": {},
     "output_type": "execute_result"
    }
   ],
   "source": [
    "data = soup.find('p', class_ = 'cssstyle')\n",
    "data.string\n"
   ]
  },
  {
   "cell_type": "code",
   "execution_count": 23,
   "id": "70f1d744",
   "metadata": {},
   "outputs": [
    {
     "data": {
      "text/plain": [
       "'파이썬을 중심으로 다양한 웹크롤링 기술 발달'"
      ]
     },
     "execution_count": 23,
     "metadata": {},
     "output_type": "execute_result"
    }
   ],
   "source": [
    "data = soup.find('p', attrs = {'align' : 'center'})\n",
    "data.string"
   ]
  },
  {
   "cell_type": "code",
   "execution_count": 25,
   "id": "b9a6c9a5",
   "metadata": {},
   "outputs": [
    {
     "data": {
      "text/plain": [
       "'웹페이지에서 필요한 데이터를 추출하는 것'"
      ]
     },
     "execution_count": 25,
     "metadata": {},
     "output_type": "execute_result"
    }
   ],
   "source": [
    "data = soup.find('p', 'cssstyle')\n",
    "data.string"
   ]
  },
  {
   "cell_type": "code",
   "execution_count": 28,
   "id": "b2593e15",
   "metadata": {},
   "outputs": [
    {
     "name": "stdout",
     "output_type": "stream",
     "text": [
      "웹페이지에서 필요한 데이터를 추출하는 것\n",
      "파이썬을 중심으로 다양한 웹크롤링 기술 발달\n"
     ]
    }
   ],
   "source": [
    "paragraph_data = soup.find_all('p')\n",
    "\n",
    "for paragraph in paragraph_data:\n",
    "    print(paragraph.get_text())"
   ]
  },
  {
   "cell_type": "code",
   "execution_count": 30,
   "id": "32e3aa3b",
   "metadata": {},
   "outputs": [
    {
     "name": "stdout",
     "output_type": "stream",
     "text": [
      " [1]크롤링이란? 웹페이지에서 필요한 데이터를 추출하는 것 파이썬을 중심으로 다양한 웹크롤링 기술 발달 \n"
     ]
    }
   ],
   "source": [
    "paragraph_data = soup.find_all('body')\n",
    "\n",
    "for paragraph in paragraph_data:\n",
    "    print(paragraph.get_text())"
   ]
  },
  {
   "cell_type": "code",
   "execution_count": 34,
   "id": "d59f7220",
   "metadata": {},
   "outputs": [
    {
     "name": "stdout",
     "output_type": "stream",
     "text": [
      "임혜숙 \"국비 지원 국외출장에 가족 동반, 사려깊지 못했다\"\n"
     ]
    }
   ],
   "source": [
    "import requests\n",
    "from bs4 import BeautifulSoup\n",
    "\n",
    "res = requests.get('https://news.v.daum.net/v/20210504152604800')\n",
    "soup = BeautifulSoup(res.content, 'html.parser')\n",
    "title = soup.find('h3', 'tit_view')\n",
    "print(title.get_text())\n"
   ]
  },
  {
   "cell_type": "code",
   "execution_count": 37,
   "id": "3c0a3922",
   "metadata": {},
   "outputs": [
    {
     "name": "stdout",
     "output_type": "stream",
     "text": [
      "2021. 05. 04. 15:26\n"
     ]
    }
   ],
   "source": [
    "date = soup.find('span', 'num_date')\n",
    "print(date.get_text())"
   ]
  },
  {
   "cell_type": "code",
   "execution_count": 47,
   "id": "f54d5e27",
   "metadata": {},
   "outputs": [
    {
     "name": "stdout",
     "output_type": "stream",
     "text": [
      "오연서\n",
      "입력 2021. 05. 04. 15:26\n",
      "수정 2021. 05. 04. 15:36\n",
      "\n",
      "오연서\n",
      "입력 2021. 05. 04. 15:26\n",
      "수정 2021. 05. 04. 15:36\n"
     ]
    }
   ],
   "source": [
    "press_list = soup.find_all('span', 'txt_info')\n",
    "for press in press_list:\n",
    "    print(press.get_text())\n",
    "\n",
    "print()\n",
    "print(press_list[0].get_text())\n",
    "print(press_list[1].get_text())\n",
    "print(press_list[2].get_text())"
   ]
  },
  {
   "cell_type": "code",
   "execution_count": 50,
   "id": "800802af",
   "metadata": {},
   "outputs": [
    {
     "name": "stdout",
     "output_type": "stream",
     "text": [
      "연예\n",
      "스포츠\n",
      "홈\n",
      "사회\n",
      "정치\n",
      "경제\n",
      "국제\n",
      "문화\n",
      "IT\n",
      "랭킹\n",
      "연재\n",
      "포토\n",
      "TV\n",
      "1boon\n",
      "갤러리\n",
      "  남성 \n",
      "  여성 \n",
      "  느림 \n",
      "  보통 \n",
      "  빠름 \n",
      "   English  \n",
      "   简体中文  \n",
      "   日本語  \n",
      "   Bahasa Indonesia  \n",
      "   tiếng Việt  \n",
      "   한국어  \n",
      "    가나다라마바사 매우 작은 폰트  \n",
      "    가나다라마바사 작은 폰트  \n",
      "    가나다라마바사 보통 폰트  \n",
      "    가나다라마바사 큰 폰트  \n",
      "    가나다라마바사 매우 큰 폰트  \n",
      "남영신, 신임 장교들에 “여러분 훈련 때 애인은 딴 사람 만나”\n",
      "김종인 이어 김기현도 광주행…‘도로 영남당’ 논란 가라앉힐까\n",
      "홍원식 남양유업 회장 눈물의 사퇴…“경영권도 승계 안 해”\n",
      "“꼬우면 우리 회사로 이직하든가”…진전없는 LH 조롱글 수사\n",
      "1년 넘게 집콕했는데…‘살고 싶은 섬’에서 ‘섬택근무’ 어때요?\n",
      "갭투기꾼의 그 은밀한 거래, 국토위원에게 물어봤습니다\n",
      "10년 만에 변했나?…오세훈 “유치원 무상급식 빠르게 추진”\n",
      "“‘잘난척하더니 그럴 줄’ 말들이 따뜻한 라디오 만들게 했어요”\n",
      "독일판 웰컴투비디오? 회원 40만 아동 성착취 영상 플랫폼 적발\n",
      "맥주 한 잔에선 거품이 얼마나 나올까\n",
      " 뉴스 \n",
      " 연예 \n",
      " 스포츠 \n",
      "\n",
      "\n",
      "\n",
      "\n",
      "\n",
      "\n",
      "\n",
      "\n",
      "\n",
      "\n",
      "\n",
      "\n"
     ]
    }
   ],
   "source": [
    "li_list = soup.find_all('li')\n",
    "for list in li_list:\n",
    "    print(list.get_text())"
   ]
  },
  {
   "cell_type": "code",
   "execution_count": 53,
   "id": "9db10812",
   "metadata": {},
   "outputs": [
    {
     "name": "stdout",
     "output_type": "stream",
     "text": [
      "(왕초보) - 클래스 소개\n",
      "(왕초보) - 블로그 개발 필요한 준비물 준비하기\n",
      "(왕초보) - Github pages 설정해서 블로그 첫 페이지 만들어보기\n",
      "(왕초보) - 초간단 페이지 만들어보기\n",
      "(왕초보) - 이쁘게 테마 적용해보기\n",
      "(왕초보) - 마크다운 기초 이해하고, 실제 나만의 블로그 페이지 만들기\n",
      "(왕초보) - 다양한 마크다운 기법 익혀보며, 나만의 블로그 페이지 꾸며보기\n",
      "(초급) - 강사가 실제 사용하는 자동 프로그램 소개 [2]\n",
      "(초급) - 필요한 프로그램 설치 시연 [5]\n",
      "(초급) - 데이터를 엑셀 파일로 만들기 [9]\n",
      "(초급) -     엑셀 파일 이쁘게! 이쁘게! [8]\n",
      "(초급) -     나대신 주기적으로 파이썬 프로그램 실행하기 [7]\n",
      "(초급) - 파이썬으로 슬랙(slack) 메신저에 글쓰기 [40]\n",
      "(초급) - 웹사이트 변경사항 주기적으로 체크해서, 메신저로 알람주기 [12]\n",
      "(초급) - 네이버 API 사용해서, 블로그에 글쓰기 [42]\n",
      "(중급) - 자동으로 쿠팡파트너스 API 로 가져온 상품 정보, 네이버 블로그/트위터에 홍보하기 [412]\n"
     ]
    }
   ],
   "source": [
    "import requests\n",
    "from bs4 import BeautifulSoup\n",
    "res = requests.get('https://davelee-fun.github.io/blog/crawl_test')\n",
    "soup = BeautifulSoup(res.content, 'html.parser')# 비정형 데이터\n",
    "\n",
    "titles = soup.find_all('li', 'course')\n",
    "for title in titles:\n",
    "    print(title.get_text())"
   ]
  },
  {
   "cell_type": "code",
   "execution_count": 59,
   "id": "d6601ee6",
   "metadata": {},
   "outputs": [
    {
     "name": "stdout",
     "output_type": "stream",
     "text": [
      "1. 강사가 실제 사용하는 자동 프로그램 소개\n",
      "2. 필요한 프로그램 설치 시연\n",
      "3. 데이터를 엑셀 파일로 만들기\n",
      "4. 엑셀 파일 이쁘게! 이쁘게!\n",
      "5. 나대신 주기적으로 파이썬 프로그램 실행하기\n",
      "6. 파이썬으로 슬랙(slack) 메신저에 글쓰기\n",
      "7. 웹사이트 변경사항 주기적으로 체크해서, 메신저로 알람주기\n",
      "8. 네이버 API 사용해서, 블로그에 글쓰기\n",
      "9. 자동으로 쿠팡파트너스 API 로 가져온 상품 정보, 네이버 블로그/트위터에 홍보하기\n"
     ]
    }
   ],
   "source": [
    "import requests\n",
    "from bs4 import BeautifulSoup\n",
    "res = requests.get('https://davelee-fun.github.io/blog/crawl_test')\n",
    "soup = BeautifulSoup(res.content, 'html.parser')\n",
    "section = soup.find('ul', id='dev_course_list')\n",
    "titles = section.find_all('li','course')\n",
    "for index, title in enumerate(titles):\n",
    "    print(str(index + 1) + '.', title.get_text().split('-')[1].split('[')[0].strip())"
   ]
  },
  {
   "cell_type": "markdown",
   "id": "532eebd3",
   "metadata": {},
   "source": [
    "## css selector 사용해서 크롤링"
   ]
  },
  {
   "cell_type": "markdown",
   "id": "560bea40",
   "metadata": {},
   "source": [
    "### '>'기호표시 (하위 태그 선택0"
   ]
  },
  {
   "cell_type": "code",
   "execution_count": 14,
   "id": "55237e71",
   "metadata": {},
   "outputs": [],
   "source": [
    "import requests\n",
    "from bs4 import BeautifulSoup\n",
    "\n",
    "URL = 'https://davelee-fun.github.io/blog/crawl_test'\n",
    "res = requests.get(URL)\n",
    "soup = BeautifulSoup(res.text, 'html.parser')\n",
    "# items = soup.select('body > ul > li')\n",
    "# items = soup.select('ul > li')\n",
    "items = soup.select('body > li')\n",
    "for item in items:\n",
    "    print(item.get_text())"
   ]
  },
  {
   "cell_type": "markdown",
   "id": "1f083569",
   "metadata": {},
   "source": [
    "### ' ' 표시 (태그 선택)"
   ]
  },
  {
   "cell_type": "code",
   "execution_count": 15,
   "id": "80dd50b6",
   "metadata": {},
   "outputs": [
    {
     "name": "stdout",
     "output_type": "stream",
     "text": [
      "(왕초보) - 클래스 소개\n",
      "(왕초보) - 블로그 개발 필요한 준비물 준비하기\n",
      "(왕초보) - Github pages 설정해서 블로그 첫 페이지 만들어보기\n",
      "(왕초보) - 초간단 페이지 만들어보기\n",
      "(왕초보) - 이쁘게 테마 적용해보기\n",
      "(왕초보) - 마크다운 기초 이해하고, 실제 나만의 블로그 페이지 만들기\n",
      "(왕초보) - 다양한 마크다운 기법 익혀보며, 나만의 블로그 페이지 꾸며보기\n",
      "(초급) - 강사가 실제 사용하는 자동 프로그램 소개 [2]\n",
      "(초급) - 필요한 프로그램 설치 시연 [5]\n",
      "(초급) - 데이터를 엑셀 파일로 만들기 [9]\n",
      "(초급) -     엑셀 파일 이쁘게! 이쁘게! [8]\n",
      "(초급) -     나대신 주기적으로 파이썬 프로그램 실행하기 [7]\n",
      "(초급) - 파이썬으로 슬랙(slack) 메신저에 글쓰기 [40]\n",
      "(초급) - 웹사이트 변경사항 주기적으로 체크해서, 메신저로 알람주기 [12]\n",
      "(초급) - 네이버 API 사용해서, 블로그에 글쓰기 [42]\n",
      "(중급) - 자동으로 쿠팡파트너스 API 로 가져온 상품 정보, 네이버 블로그/트위터에 홍보하기 [412]\n"
     ]
    }
   ],
   "source": [
    "import requests\n",
    "from bs4 import BeautifulSoup\n",
    "\n",
    "URL = 'https://davelee-fun.github.io/blog/crawl_test'\n",
    "res = requests.get(URL)\n",
    "soup = BeautifulSoup(res.text, 'html.parser')\n",
    "# items = soup.select('body  ul li')\n",
    "# items = soup.select('ul  li')\n",
    "items = soup.select('body  li')\n",
    "for item in items:\n",
    "    print(item.get_text())"
   ]
  },
  {
   "cell_type": "markdown",
   "id": "5277d347",
   "metadata": {},
   "source": [
    "### css class 이름으로 검색"
   ]
  },
  {
   "cell_type": "code",
   "execution_count": 16,
   "id": "c0a55fac",
   "metadata": {},
   "outputs": [
    {
     "name": "stdout",
     "output_type": "stream",
     "text": [
      "(왕초보) - 클래스 소개\n",
      "(왕초보) - 블로그 개발 필요한 준비물 준비하기\n",
      "(왕초보) - Github pages 설정해서 블로그 첫 페이지 만들어보기\n",
      "(왕초보) - 초간단 페이지 만들어보기\n",
      "(왕초보) - 이쁘게 테마 적용해보기\n",
      "(왕초보) - 마크다운 기초 이해하고, 실제 나만의 블로그 페이지 만들기\n",
      "(왕초보) - 다양한 마크다운 기법 익혀보며, 나만의 블로그 페이지 꾸며보기\n",
      "(초급) - 강사가 실제 사용하는 자동 프로그램 소개 [2]\n",
      "(초급) - 필요한 프로그램 설치 시연 [5]\n",
      "(초급) - 데이터를 엑셀 파일로 만들기 [9]\n",
      "(초급) -     엑셀 파일 이쁘게! 이쁘게! [8]\n",
      "(초급) -     나대신 주기적으로 파이썬 프로그램 실행하기 [7]\n",
      "(초급) - 파이썬으로 슬랙(slack) 메신저에 글쓰기 [40]\n",
      "(초급) - 웹사이트 변경사항 주기적으로 체크해서, 메신저로 알람주기 [12]\n",
      "(초급) - 네이버 API 사용해서, 블로그에 글쓰기 [42]\n",
      "(중급) - 자동으로 쿠팡파트너스 API 로 가져온 상품 정보, 네이버 블로그/트위터에 홍보하기 [412]\n"
     ]
    }
   ],
   "source": [
    "import requests\n",
    "from bs4 import BeautifulSoup\n",
    "\n",
    "URL = 'https://davelee-fun.github.io/blog/crawl_test'\n",
    "res = requests.get(URL)\n",
    "soup = BeautifulSoup(res.text, 'html.parser')\n",
    "items = soup.select('.course')\n",
    "for item in items:\n",
    "    print(item.get_text())"
   ]
  },
  {
   "cell_type": "markdown",
   "id": "c9aea8dc",
   "metadata": {},
   "source": [
    "### id 이름으로 검색"
   ]
  },
  {
   "cell_type": "code",
   "execution_count": 20,
   "id": "0b4d993d",
   "metadata": {},
   "outputs": [
    {
     "name": "stdout",
     "output_type": "stream",
     "text": [
      "\n",
      "(왕초보) - 클래스 소개\n",
      "(왕초보) - 블로그 개발 필요한 준비물 준비하기\n",
      "(왕초보) - Github pages 설정해서 블로그 첫 페이지 만들어보기\n",
      "(왕초보) - 초간단 페이지 만들어보기\n",
      "(왕초보) - 이쁘게 테마 적용해보기\n",
      "(왕초보) - 마크다운 기초 이해하고, 실제 나만의 블로그 페이지 만들기\n",
      "(왕초보) - 다양한 마크다운 기법 익혀보며, 나만의 블로그 페이지 꾸며보기\n",
      "\n"
     ]
    }
   ],
   "source": [
    "import requests\n",
    "from bs4 import BeautifulSoup\n",
    "\n",
    "URL = 'https://davelee-fun.github.io/blog/crawl_test'\n",
    "res = requests.get(URL)\n",
    "soup = BeautifulSoup(res.text, 'html.parser')\n",
    "items = soup.select('#hobby_course_list')\n",
    "for item in items:\n",
    "    print(item.get_text())"
   ]
  },
  {
   "cell_type": "markdown",
   "id": "75da133d",
   "metadata": {},
   "source": [
    "### 태그.믈래스이름1.클래스이름2...."
   ]
  },
  {
   "cell_type": "code",
   "execution_count": 22,
   "id": "e3ceada3",
   "metadata": {},
   "outputs": [
    {
     "name": "stdout",
     "output_type": "stream",
     "text": [
      "(왕초보) - 클래스 소개\n",
      "(왕초보) - 블로그 개발 필요한 준비물 준비하기\n",
      "(왕초보) - Github pages 설정해서 블로그 첫 페이지 만들어보기\n",
      "(왕초보) - 초간단 페이지 만들어보기\n",
      "(왕초보) - 이쁘게 테마 적용해보기\n",
      "(왕초보) - 마크다운 기초 이해하고, 실제 나만의 블로그 페이지 만들기\n",
      "(왕초보) - 다양한 마크다운 기법 익혀보며, 나만의 블로그 페이지 꾸며보기\n",
      "(초급) - 강사가 실제 사용하는 자동 프로그램 소개 [2]\n",
      "(초급) - 필요한 프로그램 설치 시연 [5]\n",
      "(초급) - 데이터를 엑셀 파일로 만들기 [9]\n",
      "(초급) -     엑셀 파일 이쁘게! 이쁘게! [8]\n",
      "(초급) -     나대신 주기적으로 파이썬 프로그램 실행하기 [7]\n",
      "(초급) - 파이썬으로 슬랙(slack) 메신저에 글쓰기 [40]\n",
      "(초급) - 웹사이트 변경사항 주기적으로 체크해서, 메신저로 알람주기 [12]\n",
      "(초급) - 네이버 API 사용해서, 블로그에 글쓰기 [42]\n",
      "(중급) - 자동으로 쿠팡파트너스 API 로 가져온 상품 정보, 네이버 블로그/트위터에 홍보하기 [412]\n"
     ]
    }
   ],
   "source": [
    "import requests\n",
    "from bs4 import BeautifulSoup\n",
    "\n",
    "URL = 'https://davelee-fun.github.io/blog/crawl_test'\n",
    "res = requests.get(URL)\n",
    "soup = BeautifulSoup(res.text, 'html.parser')\n",
    "items = soup.select('li.course')\n",
    "for item in items:\n",
    "    print(item.get_text())"
   ]
  },
  {
   "cell_type": "markdown",
   "id": "bc49da09",
   "metadata": {},
   "source": [
    "### 복합 에제"
   ]
  },
  {
   "cell_type": "code",
   "execution_count": 29,
   "id": "d7d97a39",
   "metadata": {
    "scrolled": true
   },
   "outputs": [
    {
     "name": "stdout",
     "output_type": "stream",
     "text": [
      "(왕초보) - 다양한 마크다운 기법 익혀보며, 나만의 블로그 페이지 꾸며보기\n"
     ]
    }
   ],
   "source": [
    "import requests\n",
    "from bs4 import BeautifulSoup\n",
    "\n",
    "URL = 'https://davelee-fun.github.io/blog/crawl_test'\n",
    "res = requests.get(URL)\n",
    "soup = BeautifulSoup(res.text, 'html.parser')\n",
    "# items = soup.select('ul#hobby_course_list > li.course')\n",
    "items = soup.select('#hobby_course_list > li:nth-child(7)')\n",
    "for item in items:\n",
    "    print(item.get_text())"
   ]
  },
  {
   "cell_type": "markdown",
   "id": "831941d8",
   "metadata": {},
   "source": [
    "# 네이버 주식 사이트 크롤링 하기1"
   ]
  },
  {
   "cell_type": "code",
   "execution_count": 49,
   "id": "14c23d6b",
   "metadata": {},
   "outputs": [
    {
     "name": "stdout",
     "output_type": "stream",
     "text": [
      "\n",
      "\n",
      "1위\n",
      "어버이날 용돈박스\n",
      "\n",
      "상승1\n",
      "\n",
      "\n",
      "2위\n",
      "면도기\n",
      "\n",
      "하락1\n",
      "\n",
      "\n",
      "3위\n",
      "카네이션\n",
      "\n",
      "상승1\n",
      "\n",
      "\n",
      "4위\n",
      "어버이날 선물\n",
      "\n",
      "상승4\n",
      "\n",
      "\n",
      "5위\n",
      "크록스 키즈\n",
      "\n",
      "유지\n",
      "\n",
      "\n",
      "\n",
      "6위\n",
      "닌텐도 스위치\n",
      "\n",
      "하락3\n",
      "\n",
      "\n",
      "7위\n",
      "마스크\n",
      "\n",
      "상승2\n",
      "\n",
      "\n",
      "8위\n",
      "크록스\n",
      "\n",
      "하락2\n",
      "\n",
      "\n",
      "9위\n",
      "에어팟 프로\n",
      "\n",
      "상승4\n",
      "\n",
      "\n",
      "10위\n",
      "어버이날 카네이션\n",
      "\n",
      "상승12\n",
      "\n",
      "\n"
     ]
    }
   ],
   "source": [
    "import requests\n",
    "from bs4 import BeautifulSoup\n",
    "\n",
    "URL = 'https://search.shopping.naver.com/best100v2/main.nhn'\n",
    "res = requests.get(URL)\n",
    "soup = BeautifulSoup(res.text, 'html.parser')\n",
    "\n",
    "\n",
    "# a 태그임ㄴ서 hrdf 속성 값이 특정한 값을 갖는 경우 탐색\n",
    "\n",
    "data = soup.select('#popular_srch_lst')\n",
    "# data = soup.select('#popular_srch_lst > li.on > span.txt > a')\n",
    "# data = soup.select('#popular_srch_lst > li:nth-child(2) > span.txt > a')\n",
    "for d in data:\n",
    "    print(d.get_text())"
   ]
  },
  {
   "cell_type": "code",
   "execution_count": null,
   "id": "e1f1df72",
   "metadata": {},
   "outputs": [],
   "source": []
  }
 ],
 "metadata": {
  "kernelspec": {
   "display_name": "Python 3",
   "language": "python",
   "name": "python3"
  },
  "language_info": {
   "codemirror_mode": {
    "name": "ipython",
    "version": 3
   },
   "file_extension": ".py",
   "mimetype": "text/x-python",
   "name": "python",
   "nbconvert_exporter": "python",
   "pygments_lexer": "ipython3",
   "version": "3.8.9"
  }
 },
 "nbformat": 4,
 "nbformat_minor": 5
}
