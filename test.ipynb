{
 "cells": [
  {
   "cell_type": "markdown",
   "id": "7a5b75f4",
   "metadata": {},
   "source": [
    "### 원본"
   ]
  },
  {
   "cell_type": "code",
   "execution_count": 7,
   "id": "d19337e9",
   "metadata": {},
   "outputs": [
    {
     "name": "stdout",
     "output_type": "stream",
     "text": [
      "['HMM', '삼성전자', '삼성중공업', '카카오', '셀트리온', 'LG전자', '금호석유', '박셀바이오', '한국석유', 'SK하이닉스', 'SH에너지화학', '효성티앤씨', '한국선재', '삼성SDI', '팬오션', '휴온스', '현대차', 'POSCO', '이트론', '휴온스글로벌', 'KB금융', 'SK이노베이션', '기아', 'NAVER', 'LG화학', '씨젠', '신풍제약', '텔레칩스', '엑세스바이오', '셀트리온헬스케어']\n"
     ]
    }
   ],
   "source": [
    "import requests\n",
    "from bs4 import BeautifulSoup\n",
    "res = requests.get('https://finance.naver.com/sise/lastsearch2.nhn')\n",
    "soup = BeautifulSoup(res.content, 'html.parser')\n",
    "pinance_list = []\n",
    "pinance_ud = []\n",
    "# for tag in soup.select(‘#contentarea’):\n",
    "#     for list_tag in tag.select(‘div.box_type_l > table > tbody > tr > td > a’):\n",
    "#         pinance_list.append(list_tag.text)\n",
    "#     for ud_tag in tag.select(‘div.box_type_l > table > tbody > tr > td > span’):\n",
    "#         pinance_ud.append(ud_tag[‘tah’])\n",
    "title = soup.select('.type_5 a')\n",
    "pay = soup.select('.type_5 tr ')\n",
    "#contentarea > div.box_type_l > table > tbody > tr:nth-child(3) > td:nth-child(4)\n",
    "#셀레니움 path\n",
    "# for i in pay:\n",
    "#     print(i.text.split())\n",
    "for i in title:\n",
    "#     print(i.text)\n",
    "    pinance_list.append(i.text)\n",
    "# for i in pay:\n",
    "#     pinance_ud.append(i.text)\n",
    "print(pinance_list)\n",
    "# print(pinance_ud.str().split())"
   ]
  },
  {
   "cell_type": "code",
   "execution_count": 13,
   "id": "9d777aca",
   "metadata": {},
   "outputs": [
    {
     "name": "stdout",
     "output_type": "stream",
     "text": [
      "['\\n순위\\n종목명\\n검색비율\\n현재가\\n전일비\\n등락률\\n거래량\\n시가\\n고가\\n저가\\nPER\\nROE\\n', '', '\\n1\\nHMM\\n2.11%\\n38,850\\n\\n\\n\\t\\t\\t\\t3,200\\n\\t\\t\\t\\t\\n\\n\\n\\n\\t\\t\\t\\t+8.98%\\n\\t\\t\\t\\t\\n\\n12,745,209\\n36,250\\n39,200\\n36,100\\n101.17\\n8.93\\n', '\\n2\\n삼성전자\\n1.61%\\n82,000\\n\\n\\n\\t\\t\\t\\t600\\n\\t\\t\\t\\t\\n\\n\\n\\n\\t\\t\\t\\t-0.73%\\n\\t\\t\\t\\t\\n\\n12,616,331\\n81,700\\n82,300\\n81,700\\n21.35\\n9.99\\n', '\\n3\\n삼성중공업\\n1.47%\\n6,060\\n\\n\\n\\t\\t\\t\\t1,100\\n\\t\\t\\t\\t\\n\\n\\n\\n\\t\\t\\t\\t-15.36%\\n\\t\\t\\t\\t\\n\\n75,177,730\\n5,660\\n6,420\\n5,620\\n-2.58\\n-33.06\\n', '\\n4\\n박셀바이오\\n1.17%\\n95,900\\n\\n\\n\\t\\t\\t\\t9,100\\n\\t\\t\\t\\t\\n\\n\\n\\n\\t\\t\\t\\t+10.48%\\n\\t\\t\\t\\t\\n\\n1,487,677\\n85,600\\n98,000\\n85,500\\n-327.30\\n-18.22\\n', '\\n5\\n카카오\\n1.07%\\n114,000\\n\\n\\n\\t\\t\\t\\t1,500\\n\\t\\t\\t\\t\\n\\n\\n\\n\\t\\t\\t\\t-1.30%\\n\\t\\t\\t\\t\\n\\n2,591,156\\n115,000\\n117,500\\n113,500\\n321.13\\n2.70\\n', '', '', '', '\\n6\\n셀트리온\\n0.89%\\n252,500\\n\\n\\n\\t\\t\\t\\t7,500\\n\\t\\t\\t\\t\\n\\n\\n\\n\\t\\t\\t\\t-2.88%\\n\\t\\t\\t\\t\\n\\n905,001\\n260,000\\n261,500\\n251,000\\n67.93\\n16.68\\n', '\\n7\\n팬오션\\n0.65%\\n7,670\\n\\n\\n\\t\\t\\t\\t510\\n\\t\\t\\t\\t\\n\\n\\n\\n\\t\\t\\t\\t+7.12%\\n\\t\\t\\t\\t\\n\\n14,429,569\\n7,280\\n7,720\\n7,240\\n44.34\\n3.25\\n', '\\n8\\nLG전자\\n0.60%\\n150,500\\n\\n\\n\\t\\t\\t\\t4,000\\n\\t\\t\\t\\t\\n\\n\\n\\n\\t\\t\\t\\t-2.59%\\n\\t\\t\\t\\t\\n\\n1,144,806\\n154,000\\n154,500\\n150,500\\n13.83\\n13.23\\n', '\\n9\\n금호석유\\n0.58%\\n294,000\\n\\n\\n\\t\\t\\t\\t24,000\\n\\t\\t\\t\\t\\n\\n\\n\\n\\t\\t\\t\\t+8.89%\\n\\t\\t\\t\\t\\n\\n1,894,384\\n272,500\\n298,500\\n269,500\\n16.89\\n20.18\\n', '\\n10\\nSK하이닉스\\n0.56%\\n128,500\\n\\n\\n\\t\\t\\t\\t3,500\\n\\t\\t\\t\\t\\n\\n\\n\\n\\t\\t\\t\\t-2.65%\\n\\t\\t\\t\\t\\n\\n3,082,857\\n130,000\\n130,500\\n128,000\\n19.67\\n9.53\\n', '', '', '', '\\n11\\n한국석유\\n0.53%\\n20,450\\n\\n\\n\\t\\t\\t\\t2,550\\n\\t\\t\\t\\t\\n\\n\\n\\n\\t\\t\\t\\t+14.25%\\n\\t\\t\\t\\t\\n\\n2,899,863\\n18,150\\n22,550\\n17,300\\n39.86\\n4.60\\n', '\\n12\\nLG화학\\n0.51%\\n937,000\\n\\n\\n\\t\\t\\t\\t17,000\\n\\t\\t\\t\\t\\n\\n\\n\\n\\t\\t\\t\\t+1.85%\\n\\t\\t\\t\\t\\n\\n257,180\\n915,000\\n939,000\\n911,000\\n143.08\\n2.93\\n', '\\n13\\nSH에너지화학\\n0.47%\\n1,345\\n\\n\\n\\t\\t\\t\\t120\\n\\t\\t\\t\\t\\n\\n\\n\\n\\t\\t\\t\\t+9.80%\\n\\t\\t\\t\\t\\n\\n144,035,149\\n1,260\\n1,445\\n1,210\\n-22.05\\n-7.29\\n', '\\n14\\nKB금융\\n0.45%\\n57,000\\n\\n\\n\\t\\t\\t\\t3,700\\n\\t\\t\\t\\t\\n\\n\\n\\n\\t\\t\\t\\t+6.94%\\n\\t\\t\\t\\t\\n\\n2,360,128\\n54,400\\n57,000\\n54,300\\n6.86\\n8.53\\n', '\\n15\\n씨젠\\n0.45%\\n81,700\\n\\n\\n\\t\\t\\t\\t1,700\\n\\t\\t\\t\\t\\n\\n\\n\\n\\t\\t\\t\\t-2.04%\\n\\t\\t\\t\\t\\n\\n478,133\\n83,400\\n83,500\\n80,500\\n8.50\\n125.91\\n', '', '', '', '\\n16\\n한국선재\\n0.45%\\n5,630\\n\\n\\n\\t\\t\\t\\t740\\n\\t\\t\\t\\t\\n\\n\\n\\n\\t\\t\\t\\t+15.13%\\n\\t\\t\\t\\t\\n\\n56,595,661\\n5,420\\n5,920\\n5,170\\n77.12\\n2.01\\n', '\\n17\\nNAVER\\n0.42%\\n361,000\\n\\n\\n\\t\\t\\t\\t3,500\\n\\t\\t\\t\\t\\n\\n\\n\\n\\t\\t\\t\\t-0.96%\\n\\t\\t\\t\\t\\n\\n419,244\\n360,500\\n364,500\\n360,000\\n59.21\\n15.22\\n', '\\n18\\n대한항공\\n0.39%\\n27,350\\n\\n\\n\\t\\t\\t\\t1,000\\n\\t\\t\\t\\t\\n\\n\\n\\n\\t\\t\\t\\t+3.80%\\n\\t\\t\\t\\t\\n\\n4,471,238\\n26,350\\n27,600\\n26,300\\n-23.08\\n-7.22\\n', '\\n19\\n삼성SDI\\n0.38%\\n640,000\\n\\n\\n\\t\\t\\t\\t10,000\\n\\t\\t\\t\\t\\n\\n\\n\\n\\t\\t\\t\\t-1.54%\\n\\t\\t\\t\\t\\n\\n244,566\\n646,000\\n650,000\\n635,000\\n78.37\\n4.54\\n', '\\n20\\n효성티앤씨\\n0.37%\\n769,000\\n\\n\\n\\t\\t\\t\\t47,000\\n\\t\\t\\t\\t\\n\\n\\n\\n\\t\\t\\t\\t+6.51%\\n\\t\\t\\t\\t\\n\\n108,649\\n732,000\\n778,000\\n723,000\\n24.33\\n25.10\\n', '', '', '', '\\n21\\nPOSCO\\n0.35%\\n394,000\\n\\n\\n\\t\\t\\t\\t17,500\\n\\t\\t\\t\\t\\n\\n\\n\\n\\t\\t\\t\\t+4.65%\\n\\t\\t\\t\\t\\n\\n568,211\\n380,500\\n395,000\\n380,500\\n21.44\\n3.61\\n', '\\n22\\nSK이노베이션\\n0.35%\\n281,000\\n\\n\\n\\t\\t\\t\\t7,500\\n\\t\\t\\t\\t\\n\\n\\n\\n\\t\\t\\t\\t+2.74%\\n\\t\\t\\t\\t\\n\\n922,630\\n271,500\\n284,000\\n271,000\\n-12.12\\n-13.58\\n', '\\n23\\n동국제강\\n0.35%\\n23,200\\n\\n\\n\\t\\t\\t\\t950\\n\\t\\t\\t\\t\\n\\n\\n\\n\\t\\t\\t\\t+4.27%\\n\\t\\t\\t\\t\\n\\n3,590,987\\n22,300\\n23,550\\n21,900\\n34.02\\n3.35\\n', '\\n24\\n현대차\\n0.34%\\n221,500\\n\\n\\n\\t\\t\\t\\t2,000\\n\\t\\t\\t\\t\\n\\n\\n\\n\\t\\t\\t\\t-0.89%\\n\\t\\t\\t\\t\\n\\n504,670\\n223,000\\n225,000\\n221,000\\n43.07\\n2.04\\n', '\\n25\\n엑세스바이오\\n0.34%\\n33,400\\n\\n\\n\\t\\t\\t\\t900\\n\\t\\t\\t\\t\\n\\n\\n\\n\\t\\t\\t\\t+2.77%\\n\\t\\t\\t\\t\\n\\n659,616\\n31,900\\n33,400\\n31,500\\n23.86\\n89.16\\n', '', '', '', '\\n26\\n휴온스\\n0.34%\\n66,900\\n\\n\\n\\t\\t\\t\\t2,800\\n\\t\\t\\t\\t\\n\\n\\n\\n\\t\\t\\t\\t+4.37%\\n\\t\\t\\t\\t\\n\\n554,397\\n62,600\\n68,800\\n62,600\\n13.07\\n25.66\\n', '\\n27\\n텔레칩스\\n0.34%\\n20,400\\n\\n\\n\\t\\t\\t\\t4,700\\n\\t\\t\\t\\t\\n\\n\\n\\n\\t\\t\\t\\t+29.94%\\n\\t\\t\\t\\t\\n\\n7,193,197\\n18,150\\n20,400\\n17,800\\n-29.27\\n-9.63\\n', '\\n28\\n넥스트사이언스\\n0.33%\\n13,850\\n\\n\\n\\t\\t\\t\\t3,100\\n\\t\\t\\t\\t\\n\\n\\n\\n\\t\\t\\t\\t-18.29%\\n\\t\\t\\t\\t\\n\\n4,543,169\\n15,950\\n16,300\\n13,500\\n-14.96\\n-41.41\\n', '\\n29\\n현대제철\\n0.32%\\n58,200\\n\\n\\n\\t\\t\\t\\t2,900\\n\\t\\t\\t\\t\\n\\n\\n\\n\\t\\t\\t\\t+5.24%\\n\\t\\t\\t\\t\\n\\n1,536,048\\n56,000\\n58,500\\n55,700\\n-18.06\\n-2.59\\n', '\\n30\\nSK바이오사이언스\\n0.32%\\n159,500\\n\\n\\n\\t\\t\\t\\t1,000\\n\\t\\t\\t\\t\\n\\n\\n\\n\\t\\t\\t\\t+0.63%\\n\\t\\t\\t\\t\\n\\n595,734\\n158,500\\n162,000\\n156,000\\n297.02\\n13.25\\n', '', '', '']\n"
     ]
    }
   ],
   "source": [
    "import requests\n",
    "from bs4 import BeautifulSoup\n",
    "res = requests.get('https://finance.naver.com/sise/lastsearch2.nhn')\n",
    "soup = BeautifulSoup(res.content, 'html.parser')\n",
    "pinance_list = []\n",
    "pinance_ud = []\n",
    "\n",
    "title = soup.select('.type_5 a')\n",
    "pay = soup.select('.type_5 tr ')\n",
    "\n",
    "for i in pay:\n",
    "    pinance_list.append(i.text)\n",
    "    for j in i: \n",
    "        pinance_list.append(i.text)\n",
    "       \n",
    "print(pinance_list)\n"
   ]
  },
  {
   "cell_type": "markdown",
   "id": "a7363df3",
   "metadata": {},
   "source": [
    "#contentarea > div.box_type_l > table > tbody > tr:nth-child(3) > td:nth-child(2) > a"
   ]
  },
  {
   "cell_type": "markdown",
   "id": "a91688a0",
   "metadata": {},
   "source": [
    "#contentarea > div.box_type_l > table > tbody > tr:nth-child(4) > td:nth-child(2) > a"
   ]
  },
  {
   "cell_type": "code",
   "execution_count": null,
   "id": "483b17f1",
   "metadata": {},
   "outputs": [],
   "source": [
    "#contentarea > div.box_type_l > table"
   ]
  }
 ],
 "metadata": {
  "kernelspec": {
   "display_name": "Python 3",
   "language": "python",
   "name": "python3"
  },
  "language_info": {
   "codemirror_mode": {
    "name": "ipython",
    "version": 3
   },
   "file_extension": ".py",
   "mimetype": "text/x-python",
   "name": "python",
   "nbconvert_exporter": "python",
   "pygments_lexer": "ipython3",
   "version": "3.8.9"
  }
 },
 "nbformat": 4,
 "nbformat_minor": 5
}
